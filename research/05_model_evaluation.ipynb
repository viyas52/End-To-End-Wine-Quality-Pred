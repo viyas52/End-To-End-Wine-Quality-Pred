{
 "cells": [
  {
   "cell_type": "code",
   "execution_count": 1,
   "metadata": {},
   "outputs": [
    {
     "data": {
      "text/plain": [
       "'d:\\\\My Workspace\\\\proj_file\\\\End-To-End-Wine-Quality-Pred\\\\research'"
      ]
     },
     "execution_count": 1,
     "metadata": {},
     "output_type": "execute_result"
    }
   ],
   "source": [
    "import os \n",
    "%pwd\n"
   ]
  },
  {
   "cell_type": "code",
   "execution_count": 2,
   "metadata": {},
   "outputs": [
    {
     "data": {
      "text/plain": [
       "'d:\\\\My Workspace\\\\proj_file\\\\End-To-End-Wine-Quality-Pred'"
      ]
     },
     "execution_count": 2,
     "metadata": {},
     "output_type": "execute_result"
    }
   ],
   "source": [
    "os.chdir(\"../\")\n",
    "%pwd"
   ]
  },
  {
   "cell_type": "code",
   "execution_count": 3,
   "metadata": {},
   "outputs": [],
   "source": [
    "os.environ[\"MLFLOW_TRACKING_URI\"]=\"https://dagshub.com/viyas52/End-To-End-Wine-Quality-Pred.mlflow\"\n",
    "os.environ[\"MLFLOW_TRACKING_USERNAME\"]=\"viyas52\"\n",
    "os.environ[\"MLFLOW_TRACKING_PASSWORD\"]=\"396092e9fb18dff075743b0080074533456e33c1\"\n"
   ]
  }
 ],
 "metadata": {
  "kernelspec": {
   "display_name": "ETEwine",
   "language": "python",
   "name": "python3"
  },
  "language_info": {
   "codemirror_mode": {
    "name": "ipython",
    "version": 3
   },
   "file_extension": ".py",
   "mimetype": "text/x-python",
   "name": "python",
   "nbconvert_exporter": "python",
   "pygments_lexer": "ipython3",
   "version": "3.8.19"
  }
 },
 "nbformat": 4,
 "nbformat_minor": 2
}
