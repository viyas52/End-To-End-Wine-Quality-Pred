{
 "cells": [
  {
   "cell_type": "code",
   "execution_count": 1,
   "metadata": {},
   "outputs": [
    {
     "data": {
      "text/plain": [
       "'d:\\\\My Workspace\\\\proj_file\\\\End-To-End-Wine-Quality-Pred\\\\research'"
      ]
     },
     "execution_count": 1,
     "metadata": {},
     "output_type": "execute_result"
    }
   ],
   "source": [
    "import os \n",
    "%pwd"
   ]
  },
  {
   "cell_type": "code",
   "execution_count": 2,
   "metadata": {},
   "outputs": [
    {
     "data": {
      "text/plain": [
       "'d:\\\\My Workspace\\\\proj_file\\\\End-To-End-Wine-Quality-Pred'"
      ]
     },
     "execution_count": 2,
     "metadata": {},
     "output_type": "execute_result"
    }
   ],
   "source": [
    "os.chdir(\"../\")\n",
    "%pwd"
   ]
  },
  {
   "cell_type": "code",
   "execution_count": 7,
   "metadata": {},
   "outputs": [],
   "source": [
    "from dataclasses import dataclass\n",
    "from pathlib import Path\n",
    "\n",
    "@dataclass(frozen=True)\n",
    "class DatatransformationConfig:\n",
    "    root_dir: Path\n",
    "    data_path: Path\n"
   ]
  },
  {
   "cell_type": "code",
   "execution_count": 8,
   "metadata": {},
   "outputs": [],
   "source": [
    "from src.constants import *\n",
    "from src.utils.common import read_yaml, create_directories\n",
    "\n",
    "\n",
    "class ConfigurationManager:\n",
    "    def __init__(\n",
    "        self,\n",
    "        config_filepath = CONFIG_FILE_PATH,\n",
    "        params_filepath = PARAMS_FILE_PATH,\n",
    "        schema_filepath = SCHEMA_FILE_PATH):\n",
    "        \n",
    "        self.config = read_yaml(config_filepath)\n",
    "        self.params = read_yaml(params_filepath)\n",
    "        self.schema = read_yaml(schema_filepath)\n",
    "        \n",
    "        create_directories([self.config.artifacts_root])\n",
    "        \n",
    "        \n",
    "    def get_data_transformation_config(self) -> DatatransformationConfig:\n",
    "        \n",
    "        config = self.config.data_transformation\n",
    "        \n",
    "        create_directories([config.root_dir])\n",
    "        \n",
    "        \n",
    "        data_transformation_config = DatatransformationConfig(\n",
    "            root_dir= config.root_dir,\n",
    "            data_path=config.data_path,\n",
    "        )\n",
    "        \n",
    "        return data_transformation_config"
   ]
  },
  {
   "cell_type": "code",
   "execution_count": 9,
   "metadata": {},
   "outputs": [],
   "source": [
    "import os\n",
    "import logging\n",
    "from sklearn.model_selection import train_test_split\n",
    "import pandas as pd\n",
    "\n",
    "class DataTransformation:\n",
    "    def __init__(self, config: DatatransformationConfig):\n",
    "        self.config = config\n",
    "\n",
    "    def preprocessing(self):\n",
    "        df = pd.read_csv(self.config.data_path)\n",
    "        \n",
    "        tar_col = df['quality']\n",
    "        \n",
    "        train,test = train_test_split(df,random_state=2,test_size=0.2,stratify=tar_col)\n",
    "        \n",
    "        train.to_csv(os.path.join(self.config.root_dir, \"train.csv\"),index = False)\n",
    "        test.to_csv(os.path.join(self.config.root_dir, \"test.csv\"),index = False)\n",
    "\n",
    "        logging.info(\"Splited data into training and test sets\")\n",
    "        logging.info(train.shape)\n",
    "        logging.info(test.shape)\n",
    "        logging.info(train.head())\n",
    "        logging.info(test.head())\n",
    "\n",
    "        print(train.shape)\n",
    "        print(test.shape)\n",
    "        print(train.head())\n",
    "        print(test.head())"
   ]
  },
  {
   "cell_type": "code",
   "execution_count": 10,
   "metadata": {},
   "outputs": [
    {
     "name": "stdout",
     "output_type": "stream",
     "text": [
      "[ 2024-06-22 08:47:01,290 ] 33 root - INFO - yaml file: config\\config.yaml loaded successfully\n",
      "[ 2024-06-22 08:47:01,292 ] 33 root - INFO - yaml file: params.yaml loaded successfully\n",
      "[ 2024-06-22 08:47:01,295 ] 33 root - INFO - yaml file: schema.yaml loaded successfully\n",
      "[ 2024-06-22 08:47:01,296 ] 53 root - INFO - created directory at: artifacts\n",
      "[ 2024-06-22 08:47:01,297 ] 53 root - INFO - created directory at: artifacts/data_transformation\n",
      "[ 2024-06-22 08:47:01,318 ] 20 root - INFO - Splited data into training and test sets\n",
      "[ 2024-06-22 08:47:01,319 ] 21 root - INFO - (1279, 12)\n",
      "[ 2024-06-22 08:47:01,320 ] 22 root - INFO - (320, 12)\n",
      "[ 2024-06-22 08:47:01,321 ] 23 root - INFO -       fixed acidity  volatile acidity  citric acid  residual sugar  chlorides  \\\n",
      "831             5.9              0.61         0.08             2.1      0.071   \n",
      "691             9.2              0.92         0.24             2.6      0.087   \n",
      "222             6.8              0.61         0.04             1.5      0.057   \n",
      "1559            7.8              0.60         0.26             2.0      0.080   \n",
      "1067           11.1              0.31         0.53             2.2      0.060   \n",
      "\n",
      "      free sulfur dioxide  total sulfur dioxide  density    pH  sulphates  \\\n",
      "831                  16.0                  24.0  0.99376  3.56       0.77   \n",
      "691                  12.0                  93.0  0.99980  3.48       0.54   \n",
      "222                   5.0                  10.0  0.99525  3.42       0.60   \n",
      "1559                 31.0                 131.0  0.99622  3.21       0.52   \n",
      "1067                  3.0                  10.0  0.99572  3.02       0.83   \n",
      "\n",
      "      alcohol  quality  \n",
      "831      11.1        6  \n",
      "691       9.8        5  \n",
      "222       9.5        5  \n",
      "1559      9.9        5  \n",
      "1067     10.9        7  \n",
      "[ 2024-06-22 08:47:01,335 ] 24 root - INFO -       fixed acidity  volatile acidity  citric acid  residual sugar  chlorides  \\\n",
      "1353            7.6             0.645         0.03             1.9      0.086   \n",
      "96              6.8             0.775         0.00             3.0      0.102   \n",
      "1567            7.2             0.695         0.13             2.0      0.076   \n",
      "136             8.3             0.715         0.15             1.8      0.089   \n",
      "1069            8.0             0.620         0.35             2.8      0.086   \n",
      "\n",
      "      free sulfur dioxide  total sulfur dioxide  density    pH  sulphates  \\\n",
      "1353                 14.0                  57.0  0.99690  3.37       0.46   \n",
      "96                    8.0                  23.0  0.99650  3.45       0.56   \n",
      "1567                 12.0                  20.0  0.99546  3.29       0.54   \n",
      "136                  10.0                  52.0  0.99680  3.23       0.77   \n",
      "1069                 28.0                  52.0  0.99700  3.31       0.62   \n",
      "\n",
      "      alcohol  quality  \n",
      "1353     10.3        5  \n",
      "96       10.7        5  \n",
      "1567     10.1        5  \n",
      "136       9.5        5  \n",
      "1069     10.8        5  \n",
      "(1279, 12)\n",
      "(320, 12)\n",
      "      fixed acidity  volatile acidity  citric acid  residual sugar  chlorides  \\\n",
      "831             5.9              0.61         0.08             2.1      0.071   \n",
      "691             9.2              0.92         0.24             2.6      0.087   \n",
      "222             6.8              0.61         0.04             1.5      0.057   \n",
      "1559            7.8              0.60         0.26             2.0      0.080   \n",
      "1067           11.1              0.31         0.53             2.2      0.060   \n",
      "\n",
      "      free sulfur dioxide  total sulfur dioxide  density    pH  sulphates  \\\n",
      "831                  16.0                  24.0  0.99376  3.56       0.77   \n",
      "691                  12.0                  93.0  0.99980  3.48       0.54   \n",
      "222                   5.0                  10.0  0.99525  3.42       0.60   \n",
      "1559                 31.0                 131.0  0.99622  3.21       0.52   \n",
      "1067                  3.0                  10.0  0.99572  3.02       0.83   \n",
      "\n",
      "      alcohol  quality  \n",
      "831      11.1        6  \n",
      "691       9.8        5  \n",
      "222       9.5        5  \n",
      "1559      9.9        5  \n",
      "1067     10.9        7  \n",
      "      fixed acidity  volatile acidity  citric acid  residual sugar  chlorides  \\\n",
      "1353            7.6             0.645         0.03             1.9      0.086   \n",
      "96              6.8             0.775         0.00             3.0      0.102   \n",
      "1567            7.2             0.695         0.13             2.0      0.076   \n",
      "136             8.3             0.715         0.15             1.8      0.089   \n",
      "1069            8.0             0.620         0.35             2.8      0.086   \n",
      "\n",
      "      free sulfur dioxide  total sulfur dioxide  density    pH  sulphates  \\\n",
      "1353                 14.0                  57.0  0.99690  3.37       0.46   \n",
      "96                    8.0                  23.0  0.99650  3.45       0.56   \n",
      "1567                 12.0                  20.0  0.99546  3.29       0.54   \n",
      "136                  10.0                  52.0  0.99680  3.23       0.77   \n",
      "1069                 28.0                  52.0  0.99700  3.31       0.62   \n",
      "\n",
      "      alcohol  quality  \n",
      "1353     10.3        5  \n",
      "96       10.7        5  \n",
      "1567     10.1        5  \n",
      "136       9.5        5  \n",
      "1069     10.8        5  \n"
     ]
    }
   ],
   "source": [
    "import sys \n",
    "from src.exception import CustomException\n",
    "try:\n",
    "    config = ConfigurationManager()\n",
    "    data_transformation_config = config.get_data_transformation_config()\n",
    "    data_transformation = DataTransformation(config=data_transformation_config)\n",
    "    data_transformation.preprocessing()\n",
    "except Exception as e:\n",
    "    raise CustomException(e,sys)\n"
   ]
  },
  {
   "cell_type": "code",
   "execution_count": null,
   "metadata": {},
   "outputs": [],
   "source": []
  }
 ],
 "metadata": {
  "kernelspec": {
   "display_name": "ETEwine",
   "language": "python",
   "name": "python3"
  },
  "language_info": {
   "codemirror_mode": {
    "name": "ipython",
    "version": 3
   },
   "file_extension": ".py",
   "mimetype": "text/x-python",
   "name": "python",
   "nbconvert_exporter": "python",
   "pygments_lexer": "ipython3",
   "version": "3.8.19"
  }
 },
 "nbformat": 4,
 "nbformat_minor": 2
}
