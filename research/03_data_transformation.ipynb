{
 "cells": [
  {
   "cell_type": "code",
   "execution_count": 1,
   "metadata": {},
   "outputs": [
    {
     "data": {
      "text/plain": [
       "'d:\\\\My Workspace\\\\proj_file\\\\End-To-End-Wine-Quality-Pred\\\\research'"
      ]
     },
     "execution_count": 1,
     "metadata": {},
     "output_type": "execute_result"
    }
   ],
   "source": [
    "import os \n",
    "%pwd"
   ]
  },
  {
   "cell_type": "code",
   "execution_count": 2,
   "metadata": {},
   "outputs": [
    {
     "data": {
      "text/plain": [
       "'d:\\\\My Workspace\\\\proj_file\\\\End-To-End-Wine-Quality-Pred'"
      ]
     },
     "execution_count": 2,
     "metadata": {},
     "output_type": "execute_result"
    }
   ],
   "source": [
    "os.chdir(\"../\")\n",
    "%pwd"
   ]
  },
  {
   "cell_type": "code",
   "execution_count": 3,
   "metadata": {},
   "outputs": [],
   "source": [
    "from dataclasses import dataclass\n",
    "from pathlib import Path\n",
    "\n",
    "@dataclass(frozen=True)\n",
    "class DatatransformationConfig:\n",
    "    root_dir: Path\n",
    "    data_path: Path\n"
   ]
  },
  {
   "cell_type": "code",
   "execution_count": 4,
   "metadata": {},
   "outputs": [],
   "source": [
    "from src.constants import *\n",
    "from src.utils.common import read_yaml, create_directories\n",
    "\n",
    "\n",
    "class ConfigurationManager:\n",
    "    def __init__(\n",
    "        self,\n",
    "        config_filepath = CONFIG_FILE_PATH,\n",
    "        params_filepath = PARAMS_FILE_PATH,\n",
    "        schema_filepath = SCHEMA_FILE_PATH):\n",
    "        \n",
    "        self.config = read_yaml(config_filepath)\n",
    "        self.params = read_yaml(params_filepath)\n",
    "        self.schema = read_yaml(schema_filepath)\n",
    "        \n",
    "        create_directories([self.config.artifacts_root])\n",
    "        \n",
    "        \n",
    "    def get_data_transformation_config(self) -> DatatransformationConfig:\n",
    "        \n",
    "        config = self.config.data_transformation\n",
    "        \n",
    "        create_directories([config.root_dir])\n",
    "        \n",
    "        \n",
    "        data_transformation_config = DatatransformationConfig(\n",
    "            root_dir= config.root_dir,\n",
    "            data_path=config.data_path,\n",
    "        )\n",
    "        \n",
    "        return data_transformation_config"
   ]
  },
  {
   "cell_type": "code",
   "execution_count": 7,
   "metadata": {},
   "outputs": [],
   "source": [
    "import os\n",
    "import logging\n",
    "from sklearn.model_selection import train_test_split\n",
    "import pandas as pd\n",
    "\n",
    "class DataTransformation:\n",
    "    def __init__(self, config: DatatransformationConfig):\n",
    "        self.config = config\n",
    "\n",
    "    def preprocessing(self):\n",
    "        df = pd.read_csv(self.config.data_path)\n",
    "        \n",
    "        df['quality']=df['quality'].apply(lambda y_value:1 if y_value>=7 else 0)\n",
    "        \n",
    "        tar_col = df['quality']\n",
    "        \n",
    "        train,test = train_test_split(df,random_state=2,test_size=0.2,stratify=tar_col)\n",
    "        \n",
    "        train.to_csv(os.path.join(self.config.root_dir, \"train.csv\"),index = False)\n",
    "        test.to_csv(os.path.join(self.config.root_dir, \"test.csv\"),index = False)\n",
    "\n",
    "        logging.info(\"Splited data into training and test sets\")\n",
    "        logging.info(train.shape)\n",
    "        logging.info(test.shape)\n",
    "        logging.info(train.head())\n",
    "        logging.info(test.head())\n",
    "\n",
    "        print(train.shape)\n",
    "        print(test.shape)\n",
    "        print(train.head())\n",
    "        print(test.head())"
   ]
  },
  {
   "cell_type": "code",
   "execution_count": 8,
   "metadata": {},
   "outputs": [
    {
     "name": "stdout",
     "output_type": "stream",
     "text": [
      "[ 2024-06-22 18:24:48,995 ] 33 root - INFO - yaml file: config\\config.yaml loaded successfully\n",
      "[ 2024-06-22 18:24:48,997 ] 33 root - INFO - yaml file: params.yaml loaded successfully\n",
      "[ 2024-06-22 18:24:49,000 ] 33 root - INFO - yaml file: schema.yaml loaded successfully\n",
      "[ 2024-06-22 18:24:49,001 ] 53 root - INFO - created directory at: artifacts\n",
      "[ 2024-06-22 18:24:49,002 ] 53 root - INFO - created directory at: artifacts/data_transformation\n",
      "[ 2024-06-22 18:24:49,027 ] 22 root - INFO - Splited data into training and test sets\n",
      "[ 2024-06-22 18:24:49,028 ] 23 root - INFO - (1279, 12)\n",
      "[ 2024-06-22 18:24:49,029 ] 24 root - INFO - (320, 12)\n",
      "[ 2024-06-22 18:24:49,030 ] 25 root - INFO -       fixed acidity  volatile acidity  citric acid  residual sugar  chlorides  \\\n",
      "1031            7.3             0.550         0.01             1.8      0.093   \n",
      "1364            7.2             0.605         0.02             1.9      0.096   \n",
      "649             6.7             0.420         0.27             8.6      0.068   \n",
      "276             6.9             0.540         0.04             3.0      0.077   \n",
      "792             7.1             0.610         0.02             2.5      0.081   \n",
      "\n",
      "      free sulfur dioxide  total sulfur dioxide  density    pH  sulphates  \\\n",
      "1031                  9.0                  15.0  0.99514  3.35       0.58   \n",
      "1364                 10.0                  31.0  0.99500  3.46       0.53   \n",
      "649                  24.0                 148.0  0.99480  3.16       0.57   \n",
      "276                   7.0                  27.0  0.99870  3.69       0.91   \n",
      "792                  17.0                  87.0  0.99745  3.48       0.60   \n",
      "\n",
      "      alcohol  quality  \n",
      "1031     11.0        1  \n",
      "1364     11.8        0  \n",
      "649      11.3        0  \n",
      "276       9.4        0  \n",
      "792       9.7        0  \n",
      "[ 2024-06-22 18:24:49,043 ] 26 root - INFO -       fixed acidity  volatile acidity  citric acid  residual sugar  chlorides  \\\n",
      "1496            7.7             0.540         0.26             1.9      0.089   \n",
      "1106            8.2             0.230         0.42             1.9      0.069   \n",
      "270             7.9             0.545         0.06             4.0      0.087   \n",
      "710            10.6             1.025         0.43             2.8      0.080   \n",
      "1107            9.1             0.300         0.41             2.0      0.068   \n",
      "\n",
      "      free sulfur dioxide  total sulfur dioxide  density    pH  sulphates  \\\n",
      "1496                 23.0                 147.0  0.99636  3.26       0.59   \n",
      "1106                  9.0                  17.0  0.99376  3.21       0.54   \n",
      "270                  27.0                  61.0  0.99650  3.36       0.67   \n",
      "710                  21.0                  84.0  0.99850  3.06       0.57   \n",
      "1107                 10.0                  24.0  0.99523  3.27       0.85   \n",
      "\n",
      "      alcohol  quality  \n",
      "1496      9.7        0  \n",
      "1106     12.3        0  \n",
      "270      10.7        0  \n",
      "710      10.1        0  \n",
      "1107     11.7        1  \n",
      "(1279, 12)\n",
      "(320, 12)\n",
      "      fixed acidity  volatile acidity  citric acid  residual sugar  chlorides  \\\n",
      "1031            7.3             0.550         0.01             1.8      0.093   \n",
      "1364            7.2             0.605         0.02             1.9      0.096   \n",
      "649             6.7             0.420         0.27             8.6      0.068   \n",
      "276             6.9             0.540         0.04             3.0      0.077   \n",
      "792             7.1             0.610         0.02             2.5      0.081   \n",
      "\n",
      "      free sulfur dioxide  total sulfur dioxide  density    pH  sulphates  \\\n",
      "1031                  9.0                  15.0  0.99514  3.35       0.58   \n",
      "1364                 10.0                  31.0  0.99500  3.46       0.53   \n",
      "649                  24.0                 148.0  0.99480  3.16       0.57   \n",
      "276                   7.0                  27.0  0.99870  3.69       0.91   \n",
      "792                  17.0                  87.0  0.99745  3.48       0.60   \n",
      "\n",
      "      alcohol  quality  \n",
      "1031     11.0        1  \n",
      "1364     11.8        0  \n",
      "649      11.3        0  \n",
      "276       9.4        0  \n",
      "792       9.7        0  \n",
      "      fixed acidity  volatile acidity  citric acid  residual sugar  chlorides  \\\n",
      "1496            7.7             0.540         0.26             1.9      0.089   \n",
      "1106            8.2             0.230         0.42             1.9      0.069   \n",
      "270             7.9             0.545         0.06             4.0      0.087   \n",
      "710            10.6             1.025         0.43             2.8      0.080   \n",
      "1107            9.1             0.300         0.41             2.0      0.068   \n",
      "\n",
      "      free sulfur dioxide  total sulfur dioxide  density    pH  sulphates  \\\n",
      "1496                 23.0                 147.0  0.99636  3.26       0.59   \n",
      "1106                  9.0                  17.0  0.99376  3.21       0.54   \n",
      "270                  27.0                  61.0  0.99650  3.36       0.67   \n",
      "710                  21.0                  84.0  0.99850  3.06       0.57   \n",
      "1107                 10.0                  24.0  0.99523  3.27       0.85   \n",
      "\n",
      "      alcohol  quality  \n",
      "1496      9.7        0  \n",
      "1106     12.3        0  \n",
      "270      10.7        0  \n",
      "710      10.1        0  \n",
      "1107     11.7        1  \n"
     ]
    }
   ],
   "source": [
    "import sys \n",
    "from src.exception import CustomException\n",
    "try:\n",
    "    config = ConfigurationManager()\n",
    "    data_transformation_config = config.get_data_transformation_config()\n",
    "    data_transformation = DataTransformation(config=data_transformation_config)\n",
    "    data_transformation.preprocessing()\n",
    "except Exception as e:\n",
    "    raise CustomException(e,sys)\n"
   ]
  },
  {
   "cell_type": "code",
   "execution_count": null,
   "metadata": {},
   "outputs": [],
   "source": []
  }
 ],
 "metadata": {
  "kernelspec": {
   "display_name": "ETEwine",
   "language": "python",
   "name": "python3"
  },
  "language_info": {
   "codemirror_mode": {
    "name": "ipython",
    "version": 3
   },
   "file_extension": ".py",
   "mimetype": "text/x-python",
   "name": "python",
   "nbconvert_exporter": "python",
   "pygments_lexer": "ipython3",
   "version": "3.8.19"
  }
 },
 "nbformat": 4,
 "nbformat_minor": 2
}
